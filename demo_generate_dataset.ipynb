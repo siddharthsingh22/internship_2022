{
 "cells": [
  {
   "cell_type": "code",
   "execution_count": 1,
   "metadata": {},
   "outputs": [],
   "source": [
    "import json\n",
    "import csv\n",
    "with open(\"data.json\",encoding='utf-8') as read_file:\n",
    "        data = json.load(read_file)"
   ]
  },
  {
   "cell_type": "code",
   "execution_count": 2,
   "metadata": {},
   "outputs": [],
   "source": [
    "a=data['items']\n",
    "title=[]\n",
    "for d in a:\n",
    "\ttitle.append((d['title']))\n",
    "\t\n",
    "ques=[]\n",
    "sol=[]\n",
    "code=[]"
   ]
  },
  {
   "cell_type": "code",
   "execution_count": 3,
   "metadata": {},
   "outputs": [
    {
     "name": "stdout",
     "output_type": "stream",
     "text": [
      "['Filename injection Path traversel', 'xss injection', 'Command injection', 'Cross site request forgery', 'XXE injections', 'X Path injections', 'XML injection', 'XSLT injections', 'External DTD parsing', 'LDAP injection']\n"
     ]
    }
   ],
   "source": [
    "print(title[:10])"
   ]
  },
  {
   "cell_type": "code",
   "execution_count": 4,
   "metadata": {},
   "outputs": [],
   "source": [
    "for t in title:\n",
    "\tques.append(\"What is \"+ t + \" ?\")\n",
    "\tques.append(\"What does \"+ t + \" mean ?\")\n",
    "\tques.append(\"Tell me something about \"+ t + \" ?\")\n",
    "\tques.append(t)\n",
    "\tques.append(\"Explain \" + t +\" ?\")\n",
    "\tques.append(\"Elaborate \" + t +\" ?\")\n",
    "\tques.append(\"Can you tell me about \" + t + \" ?\")\n",
    "\tques.append(\"What do you know about \" + t + \" ?\")\n",
    "\tques.append(\"What can you tell me about \" + t + \" ?\")\n",
    "\tques.append(\"I want to know about XSS \" + t )\n",
    "\tques.append(\"Do you have information about \" + t + \" ?\")"
   ]
  },
  {
   "cell_type": "code",
   "execution_count": 5,
   "metadata": {},
   "outputs": [
    {
     "name": "stdout",
     "output_type": "stream",
     "text": [
      "['What is Filename injection Path traversel ?', 'What does Filename injection Path traversel mean ?', 'Tell me something about Filename injection Path traversel ?', 'Filename injection Path traversel', 'Explain Filename injection Path traversel ?', 'Elaborate Filename injection Path traversel ?', 'Can you tell me about Filename injection Path traversel ?', 'What do you know about Filename injection Path traversel ?', 'What can you tell me about Filename injection Path traversel ?', 'I want to know about XSS Filename injection Path traversel']\n"
     ]
    }
   ],
   "source": [
    "print(ques[:10])"
   ]
  },
  {
   "cell_type": "code",
   "execution_count": 6,
   "metadata": {},
   "outputs": [],
   "source": [
    "for t in title:\n",
    "        sol.append(\"How to solve \"+ t + \" ?\")\n",
    "        sol.append(\"How to resolve \"+ t + \" ?\")\n",
    "        sol.append(\"How to mitigate \"+ t + \" ?\")\n",
    "        sol.append(\"Solution for \"+ t)\n",
    "        sol.append(\"Provide me some Solution for \"+ t)\n",
    "        sol.append(\"mitigation for \"+ t)\n",
    "        sol.append(\"How to stop \"+ t + \" ?\")\n",
    "        sol.append(\"How to defend \"+ t + \" ?\")\n",
    "        sol.append(\"How to get secured against \"+ t + \" ?\")\n",
    "        sol.append(\"Solution, \"+t)"
   ]
  },
  {
   "cell_type": "code",
   "execution_count": 7,
   "metadata": {},
   "outputs": [
    {
     "name": "stdout",
     "output_type": "stream",
     "text": [
      "['How to solve Filename injection Path traversel ?', 'How to resolve Filename injection Path traversel ?', 'How to mitigate Filename injection Path traversel ?', 'Solution for Filename injection Path traversel', 'Provide me some Solution for Filename injection Path traversel', 'mitigation for Filename injection Path traversel', 'How to stop Filename injection Path traversel ?', 'How to defend Filename injection Path traversel ?', 'How to get secured against Filename injection Path traversel ?', 'Solution, Filename injection Path traversel']\n"
     ]
    }
   ],
   "source": [
    "print(sol[:10])"
   ]
  },
  {
   "cell_type": "code",
   "execution_count": 8,
   "metadata": {},
   "outputs": [],
   "source": [
    "for t in title:\n",
    "        code.append(\"Give me some sample code of \"+ t )\n",
    "        code.append(\"Code example of \"+ t + \" ?\")\n",
    "        code.append(\"Code of \"+ t )"
   ]
  },
  {
   "cell_type": "code",
   "execution_count": 9,
   "metadata": {},
   "outputs": [
    {
     "name": "stdout",
     "output_type": "stream",
     "text": [
      "['Give me some sample code of Filename injection Path traversel', 'Code example of Filename injection Path traversel ?', 'Code of Filename injection Path traversel', 'Give me some sample code of xss injection', 'Code example of xss injection ?', 'Code of xss injection', 'Give me some sample code of Command injection', 'Code example of Command injection ?', 'Code of Command injection', 'Give me some sample code of Cross site request forgery']\n"
     ]
    }
   ],
   "source": [
    "print(code[:10])"
   ]
  },
  {
   "cell_type": "code",
   "execution_count": 10,
   "metadata": {},
   "outputs": [
    {
     "ename": "FileExistsError",
     "evalue": "[Errno 17] File exists: 'intent_data.csv'",
     "output_type": "error",
     "traceback": [
      "\u001b[1;31m---------------------------------------------------------------------------\u001b[0m",
      "\u001b[1;31mFileExistsError\u001b[0m                           Traceback (most recent call last)",
      "Input \u001b[1;32mIn [10]\u001b[0m, in \u001b[0;36m<cell line: 1>\u001b[1;34m()\u001b[0m\n\u001b[1;32m----> 1\u001b[0m file\u001b[38;5;241m=\u001b[39m\u001b[38;5;28;43mopen\u001b[39;49m\u001b[43m(\u001b[49m\u001b[38;5;124;43m\"\u001b[39;49m\u001b[38;5;124;43mintent_data.csv\u001b[39;49m\u001b[38;5;124;43m\"\u001b[39;49m\u001b[43m,\u001b[49m\u001b[38;5;124;43m\"\u001b[39;49m\u001b[38;5;124;43mx\u001b[39;49m\u001b[38;5;124;43m\"\u001b[39;49m\u001b[43m)\u001b[49m\n",
      "\u001b[1;31mFileExistsError\u001b[0m: [Errno 17] File exists: 'intent_data.csv'"
     ]
    }
   ],
   "source": [
    "file=open(\"intent_data.csv\",\"x\")"
   ]
  },
  {
   "cell_type": "code",
   "execution_count": 57,
   "metadata": {},
   "outputs": [],
   "source": [
    "file.write('classs,question\\n')\n",
    "for x in ques:\n",
    "\t\tx=x.replace(\",\",\"\")\n",
    "\t\tfile.write('Description, '+x+\"\\n\")\t \n"
   ]
  },
  {
   "cell_type": "code",
   "execution_count": 58,
   "metadata": {},
   "outputs": [],
   "source": [
    "for y in sol:\n",
    "\t\ty=y.replace(\",\",\"\")\n",
    "\t\tfile.write('Solution, '+y+\"\\n\")\n"
   ]
  },
  {
   "cell_type": "code",
   "execution_count": 59,
   "metadata": {},
   "outputs": [],
   "source": [
    "\n",
    "for z in code:\n",
    "\t\tz=z.replace(\",\",\"\")\n",
    "\t\tfile.write('Code, '+z+\"\\n\")"
   ]
  },
  {
   "cell_type": "code",
   "execution_count": 60,
   "metadata": {},
   "outputs": [],
   "source": [
    "file.close()"
   ]
  },
  {
   "cell_type": "code",
   "execution_count": 61,
   "metadata": {},
   "outputs": [
    {
     "name": "stdout",
     "output_type": "stream",
     "text": [
      "['classs', 'question']\n",
      "['Description', ' What is Filename injection Path traversel ?']\n",
      "['Description', ' What does Filename injection Path traversel mean ?']\n",
      "['Description', ' Tell me something about Filename injection Path traversel ?']\n",
      "['Description', ' Filename injection Path traversel']\n",
      "['Description', ' Explain Filename injection Path traversel ?']\n",
      "['Description', ' Elaborate Filename injection Path traversel ?']\n",
      "['Description', ' Can you tell me about Filename injection Path traversel ?']\n",
      "['Description', ' What do you know about Filename injection Path traversel ?']\n",
      "['Description', ' What can you tell me about Filename injection Path traversel ?']\n"
     ]
    }
   ],
   "source": [
    " with open('intent_data.csv', 'r') as csvFile:\n",
    "    reader = csv.reader(csvFile)\n",
    "    for i,row in enumerate(reader):\n",
    "        print(row)\n",
    "        if(i >= 9):\n",
    "            break"
   ]
  }
 ],
 "metadata": {
  "kernelspec": {
   "display_name": "Python 3 (ipykernel)",
   "language": "python",
   "name": "python3"
  },
  "language_info": {
   "codemirror_mode": {
    "name": "ipython",
    "version": 3
   },
   "file_extension": ".py",
   "mimetype": "text/x-python",
   "name": "python",
   "nbconvert_exporter": "python",
   "pygments_lexer": "ipython3",
   "version": "3.9.12"
  }
 },
 "nbformat": 4,
 "nbformat_minor": 2
}
